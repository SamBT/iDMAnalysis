{
 "cells": [
  {
   "cell_type": "code",
   "execution_count": 1,
   "metadata": {},
   "outputs": [],
   "source": [
    "import numpy as np\n",
    "import pandas as pd\n",
    "import os, sys, glob"
   ]
  },
  {
   "cell_type": "code",
   "execution_count": 2,
   "metadata": {},
   "outputs": [],
   "source": [
    "floc = '/uscms/home/sbrightt/nobackup/iDM/analysis/CMSSW_10_2_18/src/iDMSkimmer/analysis/jose_signal/cutflow/'\n",
    "csvs = glob.glob(floc+'*.csv')\n",
    "names = [n.split('/')[-1].split('.')[0] for n in csvs]"
   ]
  },
  {
   "cell_type": "code",
   "execution_count": 3,
   "metadata": {},
   "outputs": [
    {
     "data": {
      "text/plain": [
       "['Mchi-22p0_dMchi-4p0_cutflow',\n",
       " 'Mchi-44p0_dMchi-8p0_cutflow',\n",
       " 'Mchi-5p5_dMchi-1p0_cutflow',\n",
       " 'Mchi-80p4_dMchi-0p8_cutflow',\n",
       " 'Mchi-100p5_dMchi-1p0_cutflow',\n",
       " 'Mchi-10p5_dMchi-1p0_cutflow',\n",
       " 'Mchi-110p0_dMchi-20p0_cutflow',\n",
       " 'Mchi-11p0_dMchi-2p0_cutflow',\n",
       " 'Mchi-33p0_dMchi-6p0_cutflow',\n",
       " 'Mchi-40p2_dMchi-0p4_cutflow',\n",
       " 'Mchi-60p3_dMchi-0p6_cutflow',\n",
       " 'Mchi-66p0_dMchi-12p0_cutflow']"
      ]
     },
     "execution_count": 3,
     "metadata": {},
     "output_type": "execute_result"
    }
   ],
   "source": [
    "names"
   ]
  },
  {
   "cell_type": "code",
   "execution_count": 4,
   "metadata": {},
   "outputs": [],
   "source": [
    "newtabs = {}\n",
    "htmls = {}\n",
    "for i, n in enumerate(csvs):\n",
    "    name = names[i]\n",
    "    tab = pd.read_csv(csvs[i],sep=\" \")\n",
    "    tab.drop(columns=['Data','Bkg'])\n",
    "    cols = tab.columns\n",
    "    pts = list(filter(lambda x: 'sig' in x,cols))\n",
    "    new = {\"Cut\":tab[\"Description\"]}\n",
    "    for pt in pts:\n",
    "        new[pt] = tab[pt]\n",
    "        new[pt+'_eff'] = 100*tab[pt]/tab[pt][0]\n",
    "    tab2 = pd.DataFrame(data=new)\n",
    "    newtabs[name] = tab2\n",
    "    htmls[name] = tab2.to_html(justify='left',notebook=True)\n",
    "    latex_name = name+\"_latex.txt\"\n",
    "    file = open(latex_name,\"w\")\n",
    "    file.write(tab2.to_latex(float_format=\"%.3e\"))\n",
    "    file.close()\n",
    "    \n",
    "    f_html = open(name+\".html\",\"w\")\n",
    "    f_html.write(\"<!DOCTYPE html>\\n\")\n",
    "    f_html.write('<html>\\n')\n",
    "    f_html.write('<body>\\n')\n",
    "    print(tab2.to_html(justify=\"left\",float_format=\"%.2f\"),file=f_html)\n",
    "    f_html.write('</body>\\n')\n",
    "    f_html.write('</html>')\n",
    "    f_html.close()"
   ]
  },
  {
   "cell_type": "code",
   "execution_count": 11,
   "metadata": {},
   "outputs": [],
   "source": [
    "keys = list(newtabs.keys())\n",
    "eff_mtx = {}\n",
    "eff_mtx[\"ctau\"] = [1,10,100,1000]\n",
    "\n",
    "for i in range(len(newtabs['Mchi-22p0_dMchi-4p0_cutflow']['Cut'])):\n",
    "    for key in keys:\n",
    "        tab = newtabs[key]\n",
    "        mass = key.split(\"_\")[0].split(\"-\")[1]\n",
    "        cts = [1,10,100,1000]\n",
    "        names = [\"sig_\"+mass+\"_{0}_eff\".format(ct) for ct in cts]\n",
    "        effs_by_ct = []\n",
    "        for n in names:\n",
    "            effs_by_ct.append(tab[n][i])\n",
    "        eff_mtx[\"sig_\"+mass] = effs_by_ct\n",
    "        eff_df = pd.DataFrame(data=eff_mtx)\n",
    "        f = open(\"efficiency_mtx_cut{0}.html\".format(i),\"w\")\n",
    "        print(eff_df.to_html(),file=f)\n",
    "        f.close()"
   ]
  },
  {
   "cell_type": "code",
   "execution_count": 10,
   "metadata": {},
   "outputs": [
    {
     "data": {
      "text/plain": [
       "30"
      ]
     },
     "execution_count": 10,
     "metadata": {},
     "output_type": "execute_result"
    }
   ],
   "source": [
    "len(newtabs['Mchi-22p0_dMchi-4p0_cutflow']['Cut'])"
   ]
  },
  {
   "cell_type": "code",
   "execution_count": null,
   "metadata": {},
   "outputs": [],
   "source": []
  },
  {
   "cell_type": "code",
   "execution_count": null,
   "metadata": {},
   "outputs": [],
   "source": []
  }
 ],
 "metadata": {
  "kernelspec": {
   "display_name": "FireHydrant",
   "language": "python",
   "name": "firehydrant"
  },
  "language_info": {
   "codemirror_mode": {
    "name": "ipython",
    "version": 3
   },
   "file_extension": ".py",
   "mimetype": "text/x-python",
   "name": "python",
   "nbconvert_exporter": "python",
   "pygments_lexer": "ipython3",
   "version": "3.8.3"
  }
 },
 "nbformat": 4,
 "nbformat_minor": 4
}
